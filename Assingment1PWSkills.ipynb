{
 "cells": [
  {
   "cell_type": "code",
   "execution_count": 1,
   "id": "9d4ccb41-8f51-428e-bb47-97beb0129e13",
   "metadata": {},
   "outputs": [],
   "source": [
    "##Q1"
   ]
  },
  {
   "cell_type": "code",
   "execution_count": 5,
   "id": "bb7b082c-3681-4a93-8e89-373230263f56",
   "metadata": {},
   "outputs": [],
   "source": [
    "A=(\"hello_PW\")"
   ]
  },
  {
   "cell_type": "code",
   "execution_count": 6,
   "id": "5031d264-c7ad-4bb9-8ac8-72dd59d10a67",
   "metadata": {},
   "outputs": [
    {
     "data": {
      "text/plain": [
       "str"
      ]
     },
     "execution_count": 6,
     "metadata": {},
     "output_type": "execute_result"
    }
   ],
   "source": [
    "type(A)"
   ]
  },
  {
   "cell_type": "code",
   "execution_count": 9,
   "id": "ea7f79cc-6226-42a1-a3af-4c83b276adb0",
   "metadata": {},
   "outputs": [],
   "source": [
    "B=(35)"
   ]
  },
  {
   "cell_type": "code",
   "execution_count": 10,
   "id": "680a6f88-31c9-4929-b790-da3bb4348241",
   "metadata": {},
   "outputs": [
    {
     "data": {
      "text/plain": [
       "int"
      ]
     },
     "execution_count": 10,
     "metadata": {},
     "output_type": "execute_result"
    }
   ],
   "source": [
    "type(B)"
   ]
  },
  {
   "cell_type": "code",
   "execution_count": 11,
   "id": "9fa76153-0469-4e08-993d-ae161938f09d",
   "metadata": {},
   "outputs": [],
   "source": [
    "C=(3.13)"
   ]
  },
  {
   "cell_type": "code",
   "execution_count": 12,
   "id": "4d00221b-058d-49fa-a370-437cd3e9cc27",
   "metadata": {},
   "outputs": [
    {
     "data": {
      "text/plain": [
       "float"
      ]
     },
     "execution_count": 12,
     "metadata": {},
     "output_type": "execute_result"
    }
   ],
   "source": [
    "type(C)"
   ]
  },
  {
   "cell_type": "code",
   "execution_count": 13,
   "id": "ab097e89-34e9-4b73-b8ec-47616083c1a1",
   "metadata": {},
   "outputs": [],
   "source": [
    "D=(10,20,30)"
   ]
  },
  {
   "cell_type": "code",
   "execution_count": 14,
   "id": "68db2b23-526c-42b1-b91f-993b92a7900d",
   "metadata": {},
   "outputs": [
    {
     "data": {
      "text/plain": [
       "tuple"
      ]
     },
     "execution_count": 14,
     "metadata": {},
     "output_type": "execute_result"
    }
   ],
   "source": [
    "type(D)"
   ]
  },
  {
   "cell_type": "code",
   "execution_count": 15,
   "id": "a525f918-5b13-4ff8-81a2-29626aa64a30",
   "metadata": {},
   "outputs": [],
   "source": [
    "##Q2"
   ]
  },
  {
   "cell_type": "code",
   "execution_count": 16,
   "id": "190904b5-76ff-424b-a7c5-04ce2486c6a3",
   "metadata": {},
   "outputs": [],
   "source": [
    "var1=''"
   ]
  },
  {
   "cell_type": "code",
   "execution_count": 17,
   "id": "d4352830-2358-412f-8a70-02a06723c64b",
   "metadata": {},
   "outputs": [
    {
     "data": {
      "text/plain": [
       "str"
      ]
     },
     "execution_count": 17,
     "metadata": {},
     "output_type": "execute_result"
    }
   ],
   "source": [
    "type(var1)"
   ]
  },
  {
   "cell_type": "code",
   "execution_count": 18,
   "id": "2bc10b49-776f-4eb7-9937-3388f77fc781",
   "metadata": {},
   "outputs": [],
   "source": [
    "var2='[DS,ML,Python]'"
   ]
  },
  {
   "cell_type": "code",
   "execution_count": 19,
   "id": "1d5872d6-8a79-4c7e-8f97-a0ad5f0ed892",
   "metadata": {},
   "outputs": [
    {
     "data": {
      "text/plain": [
       "str"
      ]
     },
     "execution_count": 19,
     "metadata": {},
     "output_type": "execute_result"
    }
   ],
   "source": [
    "type(var2)"
   ]
  },
  {
   "cell_type": "code",
   "execution_count": 20,
   "id": "be31e910-d984-4eec-9937-a5c8867bc3f2",
   "metadata": {},
   "outputs": [],
   "source": [
    "var3=['DS','ML','Python']"
   ]
  },
  {
   "cell_type": "code",
   "execution_count": 21,
   "id": "3f1010cd-b79c-4160-b40d-fc4a9f1eb23c",
   "metadata": {},
   "outputs": [
    {
     "data": {
      "text/plain": [
       "list"
      ]
     },
     "execution_count": 21,
     "metadata": {},
     "output_type": "execute_result"
    }
   ],
   "source": [
    "type(var3)"
   ]
  },
  {
   "cell_type": "code",
   "execution_count": 22,
   "id": "ed6e0777-f9fc-4697-a495-371337756302",
   "metadata": {},
   "outputs": [],
   "source": [
    "var4=1"
   ]
  },
  {
   "cell_type": "code",
   "execution_count": 23,
   "id": "e5243c37-b188-45ee-907a-ef1cc76d9685",
   "metadata": {},
   "outputs": [
    {
     "data": {
      "text/plain": [
       "int"
      ]
     },
     "execution_count": 23,
     "metadata": {},
     "output_type": "execute_result"
    }
   ],
   "source": [
    "type(var4)"
   ]
  },
  {
   "cell_type": "code",
   "execution_count": 24,
   "id": "b082fb47-06a6-402e-9001-7af7cb161db0",
   "metadata": {},
   "outputs": [],
   "source": [
    "##Q3"
   ]
  },
  {
   "cell_type": "code",
   "execution_count": 27,
   "id": "8f41bdf5-b088-45ec-b411-42b81f9ac865",
   "metadata": {},
   "outputs": [],
   "source": [
    "#(/): #is used for Division.It  gives the whole number as result and not in roundoff form"
   ]
  },
  {
   "cell_type": "code",
   "execution_count": 43,
   "id": "cea3708b-f5cd-4ae3-951c-5ca6049edf3b",
   "metadata": {},
   "outputs": [
    {
     "name": "stdout",
     "output_type": "stream",
     "text": [
      "6.666666666666667\n"
     ]
    }
   ],
   "source": [
    "a = 40\n",
    "b = 6\n",
    "result = a / b\n",
    "print(result)  "
   ]
  },
  {
   "cell_type": "code",
   "execution_count": 44,
   "id": "4fe95c45-b763-4dc9-89d1-16b2c297d337",
   "metadata": {},
   "outputs": [],
   "source": [
    "#(%): It is the Modulo Operator & gives the remainder of the division between 2 numbers"
   ]
  },
  {
   "cell_type": "code",
   "execution_count": 45,
   "id": "a60c1c00-a26d-47b0-a4e2-a0357654f3ff",
   "metadata": {},
   "outputs": [
    {
     "name": "stdout",
     "output_type": "stream",
     "text": [
      "4\n"
     ]
    }
   ],
   "source": [
    "a = 40\n",
    "b = 6\n",
    "result = a % b\n",
    "print(result)"
   ]
  },
  {
   "cell_type": "code",
   "execution_count": 46,
   "id": "3fd03092-2cc2-4147-a998-e49595bc4c3b",
   "metadata": {},
   "outputs": [],
   "source": [
    "#(//): It performs division between 2 numbers and return the quotient rounded down to the nearest number"
   ]
  },
  {
   "cell_type": "code",
   "execution_count": 47,
   "id": "b1e9059e-9dcd-479a-8771-2427f2b113c5",
   "metadata": {},
   "outputs": [
    {
     "name": "stdout",
     "output_type": "stream",
     "text": [
      "6\n"
     ]
    }
   ],
   "source": [
    "a = 40\n",
    "b = 6\n",
    "result = a // b\n",
    "print(result)"
   ]
  },
  {
   "cell_type": "code",
   "execution_count": 48,
   "id": "2b07b792-1789-4eca-a630-e1deda18c958",
   "metadata": {},
   "outputs": [],
   "source": [
    "# (**): used for exponentition"
   ]
  },
  {
   "cell_type": "code",
   "execution_count": 49,
   "id": "fa5acc4e-ecba-4a8d-9d5a-9d1f35b4e4d9",
   "metadata": {},
   "outputs": [
    {
     "name": "stdout",
     "output_type": "stream",
     "text": [
      "4096000000\n"
     ]
    }
   ],
   "source": [
    "a = 40\n",
    "b = 6\n",
    "result = a ** b\n",
    "print(result)"
   ]
  },
  {
   "cell_type": "code",
   "execution_count": 50,
   "id": "b14cbc0b-ace9-48e6-ac7a-a8b996a1e97f",
   "metadata": {},
   "outputs": [],
   "source": [
    "#Q4"
   ]
  },
  {
   "cell_type": "code",
   "execution_count": 52,
   "id": "76d1063d-5480-4905-b391-83edcb70472e",
   "metadata": {},
   "outputs": [],
   "source": [
    "lst=[32,46,\"PW_is_best\",3.99,\"hey\",7+9j,\"PWbeauty\",88,99,5.1]"
   ]
  },
  {
   "cell_type": "code",
   "execution_count": 53,
   "id": "0c0bb9d2-3291-4652-bfd5-d43fd31613eb",
   "metadata": {},
   "outputs": [
    {
     "name": "stdout",
     "output_type": "stream",
     "text": [
      "32\n",
      "46\n",
      "PW_is_best\n",
      "3.99\n",
      "hey\n",
      "(7+9j)\n",
      "PWbeauty\n",
      "88\n",
      "99\n",
      "5.1\n"
     ]
    }
   ],
   "source": [
    "for i in lst:\n",
    "    print(i)"
   ]
  },
  {
   "cell_type": "code",
   "execution_count": 54,
   "id": "af309cfe-8aca-4640-b223-a9a2bb7e9290",
   "metadata": {},
   "outputs": [
    {
     "data": {
      "text/plain": [
       "list"
      ]
     },
     "execution_count": 54,
     "metadata": {},
     "output_type": "execute_result"
    }
   ],
   "source": [
    "type(lst)"
   ]
  },
  {
   "cell_type": "code",
   "execution_count": 55,
   "id": "114fc46f-4b19-4178-b118-d77dcb4cf254",
   "metadata": {},
   "outputs": [],
   "source": [
    "#Q5"
   ]
  },
  {
   "cell_type": "code",
   "execution_count": 61,
   "id": "e6d811db-f3fc-40f0-932a-873b2ce028e7",
   "metadata": {},
   "outputs": [
    {
     "name": "stdout",
     "output_type": "stream",
     "text": [
      "A is divisible by B 2 times.\n"
     ]
    }
   ],
   "source": [
    "A = 160  # The number to be divided\n",
    "B = 4    # The divisor\n",
    "\n",
    "count = 0  # Initialize a count variable to keep track of the number of divisions\n",
    "\n",
    "while A % B == 0:\n",
    "    A = A / B  # Divide A by B\n",
    "    count += 1  # Increment the count\n",
    "\n",
    "print(f\"A is divisible by B {count} times.\")\n"
   ]
  },
  {
   "cell_type": "code",
   "execution_count": 63,
   "id": "3e82b5b1-cfe1-4d06-b92c-d944b3ae5afe",
   "metadata": {},
   "outputs": [],
   "source": [
    "#Q6"
   ]
  },
  {
   "cell_type": "code",
   "execution_count": 62,
   "id": "03f7bad4-b64a-4197-8d8e-116ae60e109d",
   "metadata": {},
   "outputs": [
    {
     "name": "stdout",
     "output_type": "stream",
     "text": [
      "2 is not divisible by 3.\n",
      "6 is divisible by 3.\n",
      "9 is divisible by 3.\n",
      "12 is divisible by 3.\n",
      "15 is divisible by 3.\n",
      "18 is divisible by 3.\n",
      "21 is divisible by 3.\n",
      "24 is divisible by 3.\n",
      "27 is divisible by 3.\n",
      "30 is divisible by 3.\n",
      "33 is divisible by 3.\n",
      "36 is divisible by 3.\n",
      "39 is divisible by 3.\n",
      "42 is divisible by 3.\n",
      "45 is divisible by 3.\n",
      "48 is divisible by 3.\n",
      "51 is divisible by 3.\n",
      "54 is divisible by 3.\n",
      "57 is divisible by 3.\n",
      "60 is divisible by 3.\n",
      "63 is divisible by 3.\n",
      "66 is divisible by 3.\n",
      "69 is divisible by 3.\n",
      "72 is divisible by 3.\n",
      "75 is divisible by 3.\n"
     ]
    }
   ],
   "source": [
    "my_list = [2, 6, 9, 12, 15, 18, 21, 24, 27, 30, 33, 36, 39, 42, 45, 48, 51, 54, 57, 60, 63, 66, 69, 72, 75]\n",
    "\n",
    "for num in my_list:\n",
    "    if num % 3 == 0:\n",
    "        print(f\"{num} is divisible by 3.\")\n",
    "    else:\n",
    "        print(f\"{num} is not divisible by 3.\")\n"
   ]
  },
  {
   "cell_type": "code",
   "execution_count": 64,
   "id": "ee241316-97a8-484a-8488-4e5fb6912cb4",
   "metadata": {},
   "outputs": [],
   "source": [
    "#Q7"
   ]
  },
  {
   "cell_type": "code",
   "execution_count": 65,
   "id": "b3730dd3-2f6c-4acc-8087-e0623e7e85fa",
   "metadata": {},
   "outputs": [],
   "source": [
    "#Immutable Data Types: Data type which cannot be modified once created.\n",
    "#Example: Str,Tuples<Numeric types."
   ]
  },
  {
   "cell_type": "code",
   "execution_count": null,
   "id": "1da36747-d9be-4db2-813d-2a2fb2362b89",
   "metadata": {},
   "outputs": [],
   "source": [
    "#Mutable Data Types: Data types Which can be modified once created.\n",
    "#Example: Int,Array"
   ]
  }
 ],
 "metadata": {
  "kernelspec": {
   "display_name": "Python 3 (ipykernel)",
   "language": "python",
   "name": "python3"
  },
  "language_info": {
   "codemirror_mode": {
    "name": "ipython",
    "version": 3
   },
   "file_extension": ".py",
   "mimetype": "text/x-python",
   "name": "python",
   "nbconvert_exporter": "python",
   "pygments_lexer": "ipython3",
   "version": "3.10.8"
  }
 },
 "nbformat": 4,
 "nbformat_minor": 5
}
